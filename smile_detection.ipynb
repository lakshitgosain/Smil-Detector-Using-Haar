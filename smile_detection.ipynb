{
 "cells": [
  {
   "cell_type": "code",
   "execution_count": 1,
   "metadata": {},
   "outputs": [],
   "source": [
    "import cv2"
   ]
  },
  {
   "cell_type": "code",
   "execution_count": 9,
   "metadata": {},
   "outputs": [],
   "source": [
    "smile_cascade=cv2.CascadeClassifier('smile_cascade.xml')"
   ]
  },
  {
   "cell_type": "code",
   "execution_count": 10,
   "metadata": {},
   "outputs": [],
   "source": [
    "face_cascade=cv2.CascadeClassifier('haarcascade_frontalface_default.xml')"
   ]
  },
  {
   "cell_type": "code",
   "execution_count": 11,
   "metadata": {},
   "outputs": [],
   "source": [
    "eye_cascade=cv2.CascadeClassifier('haarcascade_eye.xml')"
   ]
  },
  {
   "cell_type": "code",
   "execution_count": 25,
   "metadata": {},
   "outputs": [],
   "source": [
    "def detect(gray,frame):\n",
    "    faces=face_cascade.detectMultiScale(gray,1.3,5)\n",
    "    \n",
    "    for x,y,w,h in faces:\n",
    "        cv2.rectangle(frame,(x,y),(x+w , y+h),(255,0,0),2)\n",
    "        roi_gray=gray[y:y+h, x:x+w]\n",
    "        roi_frame=frame[y:y+h, x:x+w]\n",
    "        \n",
    "        eyes=eye_cascade.detectMultiScale(roi_gray,1.1,22)#22 is the nearest number of neighbours\n",
    "        smile=smile_cascade.detectMultiScale(roi_gray,1.8,22)\n",
    "        \n",
    "        for (ex,ey,ew,eh) in eyes:\n",
    "            cv2.rectangle(roi_frame,(ex,ey),(ex+ew, ey+eh),(0,255,0),2)\n",
    "        \n",
    "        for (sx,sy,sw,sh) in smile:\n",
    "            cv2.rectangle(roi_frame,(sx,sy),(sx+sw, sy+sh),(0,0,255),2)\n",
    "        \n",
    "    return frame\n"
   ]
  },
  {
   "cell_type": "code",
   "execution_count": 24,
   "metadata": {},
   "outputs": [],
   "source": [
    "#Doing some Face Recognition with WebCam\n",
    "video=cv2.VideoCapture(0)#0 for webcam of a computer\n",
    "\n",
    "while True:\n",
    "    _,frame=video.read()#we get the last frame of the WebCam.\n",
    "    # We ned to get the black and white verion of the image that we get from the Webcam\n",
    "    gray=cv2.cvtColor(frame,cv2.COLOR_BGR2GRAY)\n",
    "    canvas = detect(gray,frame)#This will get the last streamed image of the webcam with the rectangles\n",
    "    \n",
    "    cv2.imshow(\"Video\",canvas)\n",
    "    \n",
    "    if cv2.waitKey(1) & 0xFF==ord('q'):\n",
    "        break\n",
    "        \n",
    "video.release()\n",
    "cv2.destroyAllWindows()# We need to distroy all the windows where all the cv2 images were displayed\n",
    "\n",
    "\n",
    "\n"
   ]
  },
  {
   "cell_type": "code",
   "execution_count": null,
   "metadata": {},
   "outputs": [],
   "source": []
  }
 ],
 "metadata": {
  "kernelspec": {
   "display_name": "Python 3",
   "language": "python",
   "name": "python3"
  },
  "language_info": {
   "codemirror_mode": {
    "name": "ipython",
    "version": 3
   },
   "file_extension": ".py",
   "mimetype": "text/x-python",
   "name": "python",
   "nbconvert_exporter": "python",
   "pygments_lexer": "ipython3",
   "version": "3.8.3"
  }
 },
 "nbformat": 4,
 "nbformat_minor": 4
}
